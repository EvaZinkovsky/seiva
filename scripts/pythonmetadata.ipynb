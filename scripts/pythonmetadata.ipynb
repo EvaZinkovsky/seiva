{
 "cells": [
  {
   "cell_type": "code",
   "execution_count": 1,
   "metadata": {},
   "outputs": [
    {
     "name": "stdout",
     "output_type": "stream",
     "text": [
      "Empty DataFrame\n",
      "Columns: [Instrument, Run, Flowcell, Lane, SampleName]\n",
      "Index: []\n"
     ]
    }
   ],
   "source": [
    "## !usr/bin/env python\n",
    "#import the pandas library and aliasing as pd\n",
    "import numpy\n",
    "import pandas\n",
    "fastqinfo = pandas.DataFrame(columns=[\"Instrument\",\"Run\",\"Flowcell\",\"Lane\",\"SampleName\"])\n",
    "print(fastqinfo)\n"
   ]
  },
  {
   "cell_type": "code",
   "execution_count": 2,
   "metadata": {},
   "outputs": [
    {
     "name": "stdout",
     "output_type": "stream",
     "text": [
      "[]\n"
     ]
    }
   ],
   "source": [
    "import glob\n",
    "print(glob.glob('/OSM/CBR/AF_DATASCHOOL/input/2019-04-12_Transcritome/*gz'))"
   ]
  },
  {
   "cell_type": "code",
   "execution_count": null,
   "metadata": {},
   "outputs": [],
   "source": [
    "import glob\n",
    "print(glob.glob('/OSM/CBR/AF_DATASCHOOL/input/2019-04-12_Transcritome/*.fastqz.gz'))"
   ]
  }
 ],
 "metadata": {
  "kernelspec": {
   "display_name": "Python 3",
   "language": "python",
   "name": "python3"
  },
  "language_info": {
   "codemirror_mode": {
    "name": "ipython",
    "version": 3
   },
   "file_extension": ".py",
   "mimetype": "text/x-python",
   "name": "python",
   "nbconvert_exporter": "python",
   "pygments_lexer": "ipython3",
   "version": "3.7.1"
  }
 },
 "nbformat": 4,
 "nbformat_minor": 2
}
